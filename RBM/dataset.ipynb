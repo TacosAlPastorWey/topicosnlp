{
 "cells": [
  {
   "cell_type": "code",
   "execution_count": 3,
   "metadata": {},
   "outputs": [
    {
     "ename": "ModuleNotFoundError",
     "evalue": "No module named 'music21'",
     "output_type": "error",
     "traceback": [
      "\u001b[0;31m---------------------------------------------------------------------------\u001b[0m",
      "\u001b[0;31mModuleNotFoundError\u001b[0m                       Traceback (most recent call last)",
      "Cell \u001b[0;32mIn[3], line 5\u001b[0m\n\u001b[1;32m      3\u001b[0m \u001b[38;5;28;01mimport\u001b[39;00m\u001b[38;5;250m \u001b[39m\u001b[38;5;21;01mnumpy\u001b[39;00m\u001b[38;5;250m \u001b[39m\u001b[38;5;28;01mas\u001b[39;00m\u001b[38;5;250m \u001b[39m\u001b[38;5;21;01mnp\u001b[39;00m\n\u001b[1;32m      4\u001b[0m \u001b[38;5;28;01mimport\u001b[39;00m\u001b[38;5;250m \u001b[39m\u001b[38;5;21;01mpretty_midi\u001b[39;00m\n\u001b[0;32m----> 5\u001b[0m \u001b[38;5;28;01mfrom\u001b[39;00m\u001b[38;5;250m \u001b[39m\u001b[38;5;21;01mmusic21\u001b[39;00m\u001b[38;5;250m \u001b[39m\u001b[38;5;28;01mimport\u001b[39;00m converter\n",
      "\u001b[0;31mModuleNotFoundError\u001b[0m: No module named 'music21'"
     ]
    }
   ],
   "source": [
    "import os\n",
    "import pandas as pd\n",
    "import numpy as np\n",
    "import pretty_midi\n",
    "from music21 import converter"
   ]
  },
  {
   "cell_type": "code",
   "execution_count": null,
   "metadata": {},
   "outputs": [
    {
     "ename": "ModuleNotFoundError",
     "evalue": "No module named 'pretty_midi'",
     "output_type": "error",
     "traceback": [
      "\u001b[0;31m---------------------------------------------------------------------------\u001b[0m",
      "\u001b[0;31mModuleNotFoundError\u001b[0m                       Traceback (most recent call last)",
      "Cell \u001b[0;32mIn[1], line 4\u001b[0m\n\u001b[1;32m      2\u001b[0m \u001b[38;5;28;01mimport\u001b[39;00m\u001b[38;5;250m \u001b[39m\u001b[38;5;21;01mpandas\u001b[39;00m\u001b[38;5;250m \u001b[39m\u001b[38;5;28;01mas\u001b[39;00m\u001b[38;5;250m \u001b[39m\u001b[38;5;21;01mpd\u001b[39;00m\n\u001b[1;32m      3\u001b[0m \u001b[38;5;28;01mimport\u001b[39;00m\u001b[38;5;250m \u001b[39m\u001b[38;5;21;01mnumpy\u001b[39;00m\u001b[38;5;250m \u001b[39m\u001b[38;5;28;01mas\u001b[39;00m\u001b[38;5;250m \u001b[39m\u001b[38;5;21;01mnp\u001b[39;00m\n\u001b[0;32m----> 4\u001b[0m \u001b[38;5;28;01mimport\u001b[39;00m\u001b[38;5;250m \u001b[39m\u001b[38;5;21;01mpretty_midi\u001b[39;00m\n\u001b[1;32m      5\u001b[0m \u001b[38;5;28;01mfrom\u001b[39;00m\u001b[38;5;250m \u001b[39m\u001b[38;5;21;01mmusic21\u001b[39;00m\u001b[38;5;250m \u001b[39m\u001b[38;5;28;01mimport\u001b[39;00m converter\n\u001b[1;32m      6\u001b[0m \u001b[38;5;28;01mimport\u001b[39;00m\u001b[38;5;250m \u001b[39m\u001b[38;5;21;01mpickle\u001b[39;00m  \u001b[38;5;66;03m# Opcional, pd.to_pickle usa internamente pickle\u001b[39;00m\n",
      "\u001b[0;31mModuleNotFoundError\u001b[0m: No module named 'pretty_midi'"
     ]
    }
   ],
   "source": [
    "import os\n",
    "import pickle\n",
    "import pretty_midi\n",
    "from music21 import converter\n",
    "\n",
    "# Directorio base donde están los archivos organizados por artista\n",
    "base_dir = './DBN/dataset/'  # Ajusta esta ruta según corresponda\n",
    "\n",
    "# Diccionario donde se guardará la información\n",
    "# Cada entrada tendrá la forma: { track_id: { 'artist': ..., 'track': ..., 'composer': ..., 'key': ..., 'midi_path': ..., 'piano_roll': ... } }\n",
    "dataset_dict = {}\n",
    "track_id = 0\n",
    "\n",
    "# Recorrer cada carpeta (artista) y cada archivo MIDI dentro\n",
    "for artist in os.listdir(base_dir):\n",
    "    artist_path = os.path.join(base_dir, artist)\n",
    "    if os.path.isdir(artist_path):\n",
    "        for file_name in os.listdir(artist_path):\n",
    "            if file_name.lower().endswith(('.mid', '.midi')):\n",
    "                midi_path = os.path.join(artist_path, file_name)\n",
    "                \n",
    "                # Extraer metadatos usando music21\n",
    "                try:\n",
    "                    score = converter.parse(midi_path)\n",
    "                except Exception as e:\n",
    "                    print(f\"Error al parsear {midi_path}: {e}\")\n",
    "                    continue\n",
    "\n",
    "                # Obtener compositor (si está disponible)\n",
    "                composer = score.metadata.composer if score.metadata is not None else None\n",
    "\n",
    "                # Extraer la tonalidad\n",
    "                try:\n",
    "                    key_obj = score.analyze('key')\n",
    "                    key_str = f\"{key_obj.tonic.name} {key_obj.mode}\"\n",
    "                except Exception as e:\n",
    "                    key_str = None\n",
    "\n",
    "                # Extraer el piano roll usando pretty_midi\n",
    "                try:\n",
    "                    pm = pretty_midi.PrettyMIDI(midi_path)\n",
    "                    # Genera un piano roll de todas las pistas (dimensiones: 128 x time_steps)\n",
    "                    piano_roll = pm.get_piano_roll(fs=100)  # fs=100 indica frames por segundo\n",
    "                except Exception as e:\n",
    "                    print(f\"Error al obtener piano roll de {midi_path}: {e}\")\n",
    "                    continue\n",
    "\n",
    "                # Guardar la información en el diccionario\n",
    "                dataset_dict[track_id] = {\n",
    "                    'artist': artist,\n",
    "                    'track': file_name,\n",
    "                    'composer': composer,\n",
    "                    'key': key_str,\n",
    "                    'midi_path': midi_path,\n",
    "                    'piano_roll': piano_roll  # Guarda el array completo\n",
    "                }\n",
    "                track_id += 1\n",
    "\n",
    "# Guardar el diccionario en un archivo pickle para cargarlo fácilmente luego\n",
    "output_pickle = \"dataset_dict.pkl\"\n",
    "with open(output_pickle, 'wb') as f:\n",
    "    pickle.dump(dataset_dict, f)\n",
    "\n",
    "print(f\"Dataset guardado correctamente en {output_pickle}\")\n"
   ]
  },
  {
   "cell_type": "code",
   "execution_count": null,
   "metadata": {},
   "outputs": [],
   "source": [
    "import pickle\n",
    "\n",
    "# Cargar el dataset desde el archivo pickle\n",
    "with open(\"dataset_dict.pkl\", \"rb\") as f:\n",
    "    dataset_dict = pickle.load(f)\n",
    "\n",
    "# Ejemplo: mostrar información del primer track\n",
    "first_track = dataset_dict[0]\n",
    "print(\"Artista:\", first_track['artist'])\n",
    "print(\"Track:\", first_track['track'])\n",
    "print(\"Compositor:\", first_track['composer'])\n",
    "print(\"Tonalidad:\", first_track['key'])\n",
    "print(\"Path MIDI:\", first_track['midi_path'])\n",
    "print(\"Forma del piano roll:\", first_track['piano_roll'].shape)\n"
   ]
  }
 ],
 "metadata": {
  "kernelspec": {
   "display_name": "Python 3",
   "language": "python",
   "name": "python3"
  },
  "language_info": {
   "codemirror_mode": {
    "name": "ipython",
    "version": 3
   },
   "file_extension": ".py",
   "mimetype": "text/x-python",
   "name": "python",
   "nbconvert_exporter": "python",
   "pygments_lexer": "ipython3",
   "version": "3.13.1"
  }
 },
 "nbformat": 4,
 "nbformat_minor": 2
}
